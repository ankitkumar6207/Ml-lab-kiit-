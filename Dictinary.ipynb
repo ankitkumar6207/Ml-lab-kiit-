{
 "cells": [
  {
   "cell_type": "code",
   "execution_count": 1,
   "id": "31d6f88b",
   "metadata": {},
   "outputs": [
    {
     "name": "stdout",
     "output_type": "stream",
     "text": [
      "{}\n"
     ]
    }
   ],
   "source": [
    "my_dict ={}\n",
    "print(my_dict)"
   ]
  },
  {
   "cell_type": "code",
   "execution_count": 12,
   "id": "dc5e9b03",
   "metadata": {},
   "outputs": [
    {
     "name": "stdout",
     "output_type": "stream",
     "text": [
      "{1: 'ankit', 2: 'kumar'}\n",
      "dict_keys([1, 2])\n",
      "kumar\n",
      "dict_values(['ankit', 'kumar'])\n"
     ]
    }
   ],
   "source": [
    "my_dict = {1:\"ankit\",2:'kumar'}\n",
    "print(my_dict)\n",
    "print(my_dict.keys())\n",
    "print(my_dict[2])\n",
    "print(my_dict.values())"
   ]
  },
  {
   "cell_type": "code",
   "execution_count": 7,
   "id": "5bf62db1",
   "metadata": {},
   "outputs": [
    {
     "name": "stdout",
     "output_type": "stream",
     "text": [
      "{'johm': 'ankit', 1: [1, 2, 3]}\n"
     ]
    }
   ],
   "source": [
    "my_dict = {'johm':'ankit',1:[1,2,3]}\n",
    "print(my_dict)"
   ]
  },
  {
   "cell_type": "code",
   "execution_count": 9,
   "id": "8f9553e7",
   "metadata": {},
   "outputs": [
    {
     "name": "stdout",
     "output_type": "stream",
     "text": [
      "{1: 'apple', 2: 'ball'}\n"
     ]
    }
   ],
   "source": [
    "my_dict = dict({1:'apple',2:'ball'})\n",
    "print(my_dict)"
   ]
  },
  {
   "cell_type": "code",
   "execution_count": 13,
   "id": "e0964350",
   "metadata": {},
   "outputs": [
    {
     "name": "stdout",
     "output_type": "stream",
     "text": [
      "jack\n",
      "34\n"
     ]
    }
   ],
   "source": [
    "#accessing value from dictionary through get() function\n",
    "my_dict = {'name':'jack','age':34}\n",
    "print(my_dict['name'])\n",
    "print(my_dict.get('age'))"
   ]
  },
  {
   "cell_type": "code",
   "execution_count": 15,
   "id": "13b26bcb",
   "metadata": {},
   "outputs": [
    {
     "name": "stdout",
     "output_type": "stream",
     "text": [
      "{'name': 'jack', 'age': 27}\n",
      "{'name': 'jack', 'age': 27, 'address': 'odisha'}\n",
      "{'name': 'jack', 'age': 27, 'address': 'odisha', 'phone': '6207459567'}\n"
     ]
    }
   ],
   "source": [
    "my_dict = {'name':'jack','age':26}\n",
    "my_dict['age']=27\n",
    "print(my_dict)\n",
    "\n",
    "my_dict['address']='odisha'\n",
    "print(my_dict)\n",
    "\n",
    "my_dict['phone']='6207459567'\n",
    "print(my_dict)"
   ]
  },
  {
   "cell_type": "code",
   "execution_count": 22,
   "id": "b1cc20f7",
   "metadata": {},
   "outputs": [
    {
     "name": "stdout",
     "output_type": "stream",
     "text": [
      "{1: 'raj', 2: 'ankit', 3: 'mukesh'}\n",
      "{1: 'raj', 2: 'ankit', 3: 'mukesh', 4: 'rani'}\n",
      "{1: 'raj', 2: 'ankit', 3: 'mukesh', 4: 'rani'}\n",
      "{1: 'raj', 2: 'ankit', 3: 'mukesh', 4: 'rani'}\n",
      "{1: 'raj', 2: 'ankit', 3: 'mukesh', 4: 'rani', 5: 'chinmaya sir'}\n",
      "{1: 'raj', 2: 'ankit', 3: 'mukesh', 4: 'rani'}\n"
     ]
    }
   ],
   "source": [
    "#if we use assignment operator and if we add some element to old dict then it will be updated in new dict but in case of copy() \n",
    "#it will not updated \n",
    "d1 = {1:'raj',2:'ankit',3:'mukesh'}\n",
    "d2 = d1\n",
    "print(d2)\n",
    "\n",
    "d1[4]='rani'\n",
    "print(d1)\n",
    "print(d2)\n",
    "\n",
    "\n",
    "d3 = d1.copy()\n",
    "print(d3)\n",
    "\n",
    "d1[5]='chinmaya sir'\n",
    "print(d1)\n",
    "print(d3)\n",
    "\n"
   ]
  },
  {
   "cell_type": "code",
   "execution_count": 24,
   "id": "306e597a",
   "metadata": {},
   "outputs": [
    {
     "name": "stdout",
     "output_type": "stream",
     "text": [
      "Original string\n",
      "{'A': 'Ankit', 'B': 'Bablu'}\n",
      "{'A': 'Ankit', 'B': 'Babu'}\n"
     ]
    }
   ],
   "source": [
    "#updation \n",
    "dictionary1 ={'A':\"Ankit\",'B':'Bablu'}\n",
    "dictionary2 = {'B':'Babu'}\n",
    "print(\"Original string\")\n",
    "print(dictionary1)\n",
    "dictionary1.update(dictionary2)\n",
    "print(dictionary1)"
   ]
  },
  {
   "cell_type": "code",
   "execution_count": 28,
   "id": "f156b0ad",
   "metadata": {},
   "outputs": [
    {
     "name": "stdout",
     "output_type": "stream",
     "text": [
      "Original string\n",
      "{'A': 'Ankit', 'B': 'Bablu'}\n",
      "{'A': 'Ankit', 'B': 'babu', 'C': 'cutie', 'd': 'dog'}\n"
     ]
    }
   ],
   "source": [
    "dictionary1 ={'A':\"Ankit\",'B':'Bablu'}\n",
    "\n",
    "print(\"Original string\")\n",
    "print(dictionary1)\n",
    "dictionary1.update(B='babu',C = 'cutie',d= 'dog')\n",
    "print(dictionary1)"
   ]
  },
  {
   "cell_type": "code",
   "execution_count": 30,
   "id": "ecacfcdc",
   "metadata": {},
   "outputs": [
    {
     "name": "stdout",
     "output_type": "stream",
     "text": [
      "dict_keys(['A', 'B'])\n"
     ]
    }
   ],
   "source": [
    "dictionary1 ={'A':\"Ankit\",'B':'Bablu'}\n",
    "print(dictionary1.keys())"
   ]
  },
  {
   "cell_type": "code",
   "execution_count": 31,
   "id": "14dfc0a6",
   "metadata": {},
   "outputs": [
    {
     "name": "stdout",
     "output_type": "stream",
     "text": [
      "dict_values(['Ankit', 'Bablu'])\n"
     ]
    }
   ],
   "source": [
    "dictionary1 ={'A':\"Ankit\",'B':'Bablu'}\n",
    "print(dictionary1.values())"
   ]
  },
  {
   "cell_type": "code",
   "execution_count": 33,
   "id": "a78a88c3",
   "metadata": {},
   "outputs": [
    {
     "name": "stdout",
     "output_type": "stream",
     "text": [
      "the dictinary values:  dict_values([50000, 60000, 30999])\n",
      "sum of salary : 140999\n"
     ]
    }
   ],
   "source": [
    "salary={\n",
    "    'raj':50000,\n",
    "    'ankit':60000,\n",
    "    'akash':30999\n",
    "}\n",
    "list = salary.values();\n",
    "print('the dictinary values: ',list)\n",
    "print('sum of salary :',sum(list))"
   ]
  },
  {
   "cell_type": "code",
   "execution_count": 3,
   "id": "3ea66ace",
   "metadata": {},
   "outputs": [
    {
     "name": "stdout",
     "output_type": "stream",
     "text": [
      "{'Math': 0, 'English': 0, 'Science': 0}\n",
      "('Math', 0)\n",
      "('English', 0)\n",
      "('Science', 0)\n",
      "['English', 'Math', 'Science']\n",
      "enter marks one45\n",
      "enter marks one56\n",
      "enter marks one34\n",
      "{'Math': 0, 'English': 56, 'Science': 34, 'Maths': 45}\n"
     ]
    }
   ],
   "source": [
    "marks = {}.fromkeys(['Math','English','Science'],0)\n",
    "print(marks)\n",
    "for item in marks.items():\n",
    "    print(item)\n",
    "    \n",
    "print(list(sorted(marks.keys())))\n",
    "\n",
    "m1=int(input('enter marks one'))\n",
    "m2=int(input('enter marks one'))\n",
    "m3=int(input('enter marks one'))\n",
    "\n",
    "marks.update(Maths=m1,English=m2,Science=m3)\n",
    "print(marks)"
   ]
  },
  {
   "cell_type": "code",
   "execution_count": 4,
   "id": "1eeccb42",
   "metadata": {},
   "outputs": [
    {
     "name": "stdout",
     "output_type": "stream",
     "text": [
      "{0: 0, 1: 1, 2: 4, 3: 9, 4: 16, 5: 25}\n"
     ]
    }
   ],
   "source": [
    "squares = {x:x*x for x in range(6)}\n",
    "print(squares)\n"
   ]
  },
  {
   "cell_type": "code",
   "execution_count": 6,
   "id": "c4ab7603",
   "metadata": {},
   "outputs": [
    {
     "name": "stdout",
     "output_type": "stream",
     "text": [
      "{0: 0, 1: 1, 2: 4, 3: 9, 4: 16, 5: 25}\n"
     ]
    }
   ],
   "source": [
    "squares={}\n",
    "for x in range(6):\n",
    "    squares[x]=x*x\n",
    "    \n",
    "print(squares)"
   ]
  },
  {
   "cell_type": "code",
   "execution_count": null,
   "id": "af0370bf",
   "metadata": {},
   "outputs": [],
   "source": []
  }
 ],
 "metadata": {
  "kernelspec": {
   "display_name": "Python 3 (ipykernel)",
   "language": "python",
   "name": "python3"
  },
  "language_info": {
   "codemirror_mode": {
    "name": "ipython",
    "version": 3
   },
   "file_extension": ".py",
   "mimetype": "text/x-python",
   "name": "python",
   "nbconvert_exporter": "python",
   "pygments_lexer": "ipython3",
   "version": "3.11.5"
  }
 },
 "nbformat": 4,
 "nbformat_minor": 5
}
