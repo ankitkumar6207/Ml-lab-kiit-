{
 "cells": [
  {
   "cell_type": "code",
   "execution_count": 1,
   "id": "87ac088c",
   "metadata": {},
   "outputs": [
    {
     "name": "stdout",
     "output_type": "stream",
     "text": [
      "{1, 2, 3, 4, 5, 6}\n"
     ]
    },
    {
     "data": {
      "text/plain": [
       "set"
      ]
     },
     "execution_count": 1,
     "metadata": {},
     "output_type": "execute_result"
    }
   ],
   "source": [
    "x = {1,2,3,4,5,6,1}\n",
    "print(x)\n",
    "type(x)"
   ]
  },
  {
   "cell_type": "code",
   "execution_count": 2,
   "id": "5fd5785d",
   "metadata": {},
   "outputs": [
    {
     "name": "stdout",
     "output_type": "stream",
     "text": [
      "{'ram', 'shyam', 'arjun'}\n"
     ]
    }
   ],
   "source": [
    "names = {\"ram\",\"shyam\",\"arjun\",\"ram\"}\n",
    "print(names)"
   ]
  },
  {
   "cell_type": "code",
   "execution_count": 3,
   "id": "4e5231ad",
   "metadata": {},
   "outputs": [
    {
     "name": "stdout",
     "output_type": "stream",
     "text": [
      "{'c', 'b', 'a', 'e', 'd'}\n"
     ]
    }
   ],
   "source": [
    "myset = set(['a','b','c','d','e','a'])\n",
    "print(myset)"
   ]
  },
  {
   "cell_type": "code",
   "execution_count": 4,
   "id": "3eaaf107",
   "metadata": {},
   "outputs": [
    {
     "name": "stdout",
     "output_type": "stream",
     "text": [
      "{'b', 'c', 'a'}\n",
      "{'b', 'c', 'd', 'a'}\n",
      "frozen set\n",
      "\n",
      "frozenset({'b', 'c', 'a'})\n"
     ]
    },
    {
     "ename": "AttributeError",
     "evalue": "'frozenset' object has no attribute 'add'",
     "output_type": "error",
     "traceback": [
      "\u001b[1;31m---------------------------------------------------------------------------\u001b[0m",
      "\u001b[1;31mAttributeError\u001b[0m                            Traceback (most recent call last)",
      "Cell \u001b[1;32mIn[4], line 11\u001b[0m\n\u001b[0;32m      9\u001b[0m frozen_set \u001b[38;5;241m=\u001b[39m\u001b[38;5;28mfrozenset\u001b[39m([\u001b[38;5;124m\"\u001b[39m\u001b[38;5;124ma\u001b[39m\u001b[38;5;124m\"\u001b[39m,\u001b[38;5;124m\"\u001b[39m\u001b[38;5;124mb\u001b[39m\u001b[38;5;124m\"\u001b[39m,\u001b[38;5;124m\"\u001b[39m\u001b[38;5;124mc\u001b[39m\u001b[38;5;124m\"\u001b[39m])\n\u001b[0;32m     10\u001b[0m \u001b[38;5;28mprint\u001b[39m(frozen_set)\n\u001b[1;32m---> 11\u001b[0m frozen_set\u001b[38;5;241m.\u001b[39madd(\u001b[38;5;124m\"\u001b[39m\u001b[38;5;124md\u001b[39m\u001b[38;5;124m\"\u001b[39m)\n\u001b[0;32m     12\u001b[0m \u001b[38;5;28mprint\u001b[39m(frozen_set)\n",
      "\u001b[1;31mAttributeError\u001b[0m: 'frozenset' object has no attribute 'add'"
     ]
    }
   ],
   "source": [
    "normal_set = set([\"a\",\"b\",\"c\"])\n",
    "print(normal_set);\n",
    "normal_set.add(\"d\")\n",
    "print(normal_set);\n",
    "\n",
    "\n",
    "#frozen set is a type of set which can't be changed\n",
    "print(\"frozen set\\n\")\n",
    "frozen_set =frozenset([\"a\",\"b\",\"c\"])\n",
    "print(frozen_set)\n",
    "frozen_set.add(\"d\")\n",
    "print(frozen_set)\n",
    "\n"
   ]
  },
  {
   "cell_type": "code",
   "execution_count": null,
   "id": "506180c2",
   "metadata": {},
   "outputs": [],
   "source": [
    "#we can't access set element using index value, it will give error\n",
    "x = {1,2,3,4,5,6,7}\n",
    "print(x)\n",
    "print(x[2])"
   ]
  },
  {
   "cell_type": "code",
   "execution_count": null,
   "id": "ea1df97a",
   "metadata": {},
   "outputs": [],
   "source": [
    "# printing the second element \n",
    "x = {1,2,3,4,5,6,7}\n",
    "print(x)\n",
    "# k =0\n",
    "for i in x:\n",
    "#     k = k+1\n",
    "    if(i ==2):\n",
    "        print(\"second element \",i) # access the second element of the set"
   ]
  },
  {
   "cell_type": "code",
   "execution_count": null,
   "id": "4e7faefa",
   "metadata": {},
   "outputs": [],
   "source": [
    "#accessing the element using loop\n",
    "name = {\"ankit\",\"akash\",\"mohit\",\"sneha\",2,3,4,5,60}\n",
    "print(name)\n",
    "for i in name:\n",
    "    print(i)"
   ]
  },
  {
   "cell_type": "code",
   "execution_count": null,
   "id": "139e3eac",
   "metadata": {},
   "outputs": [],
   "source": [
    "my_set = {1,2,3,4,5,6}\n",
    "print(my_set)\n",
    "\n",
    "#adding element to the set\n",
    "my_set.add(23)\n",
    "print(my_set)"
   ]
  },
  {
   "cell_type": "code",
   "execution_count": null,
   "id": "81fc695c",
   "metadata": {},
   "outputs": [],
   "source": [
    "#adding element in the set using loop\n",
    "my_set = {1,2,3,4}\n",
    "for i in range(1,10):\n",
    "    my_set.add(i)\n",
    "print(\"after adding all the numbers to the set :\",my_set)"
   ]
  },
  {
   "cell_type": "code",
   "execution_count": null,
   "id": "d9684d01",
   "metadata": {},
   "outputs": [],
   "source": [
    "#remove element from the set using remove \n",
    "set = {\"apple\",\"mango\",\"orange\"}\n",
    "set.remove(\"orange\")\n",
    "print(set)"
   ]
  },
  {
   "cell_type": "code",
   "execution_count": null,
   "id": "08ccdd56",
   "metadata": {},
   "outputs": [],
   "source": [
    "#remove element from the set using discard\n",
    "#if the item to remove does not exist then discard will not give any error but remove will create and error\n",
    "set = {\"mango\",\"orange\",\"apple\"}\n",
    "set.discard(\"mano\")\n",
    "print(set)\n"
   ]
  },
  {
   "cell_type": "code",
   "execution_count": null,
   "id": "65c26e0a",
   "metadata": {},
   "outputs": [],
   "source": [
    "#poppint out from the set\n",
    "set = {1,2,3,4,5,6,7,8,9,10}\n",
    "print(set)\n",
    "print(\"\\npopped element\",set.pop())\n",
    "print(\"set after updating\",set)\n",
    "print(\"\\npopped element\",set.pop())\n",
    "print(\"set after updating\",set)\n",
    "print(\"\\npopped element\",set.pop())\n",
    "print(\"set after updating\",set)\n",
    "print(\"\\npopped element\",set.pop())\n",
    "print(\"set after updating\",set)\n",
    "print(\"\\npopped element\",set.pop())\n",
    "print(\"set after updating\",set)\n",
    "\n"
   ]
  },
  {
   "cell_type": "code",
   "execution_count": null,
   "id": "e6564e43",
   "metadata": {},
   "outputs": [],
   "source": [
    "#popping out from the set\n",
    "set = {1,2,3,4,5,6,7,8,9,10}\n",
    "print(set)\n",
    "# unordered arrangement in the set \n",
    "\n",
    "for i in range(len(set)):\n",
    "    print(\"\\npopped element\",set.pop())\n",
    "    print(\"set after updating\",set)"
   ]
  },
  {
   "cell_type": "code",
   "execution_count": null,
   "id": "69627d5d",
   "metadata": {},
   "outputs": [],
   "source": [
    "set = {1,2,3,4,5,6,7,8,9,10}\n",
    "print(set)\n",
    "\n",
    "set.clear();\n",
    "print(\"\\n set after using clear\",set)\n",
    "print(set)"
   ]
  },
  {
   "cell_type": "code",
   "execution_count": 6,
   "id": "93eef146",
   "metadata": {},
   "outputs": [
    {
     "name": "stdout",
     "output_type": "stream",
     "text": [
      "{2, 3, 4, 5, 10, 11, 12}\n",
      "{2, 3, 4, 5, 10, 11, 12}\n"
     ]
    }
   ],
   "source": [
    "list1 = [1,2,3,4]\n",
    "list2 = [2,3,4,5]\n",
    "list3 = [10,11,12]\n",
    "\n",
    "#list converted to set\n",
    "set1 = set(list2)\n",
    "set2 = set(list3)\n",
    "\n",
    "#updating the set\n",
    "set1.update(set2)\n",
    "\n",
    "#pring the updated set\n",
    "print(set1)\n",
    "\n",
    "set1.update(set1)\n",
    "print(set1)"
   ]
  },
  {
   "cell_type": "code",
   "execution_count": 7,
   "id": "59d170aa",
   "metadata": {},
   "outputs": [
    {
     "name": "stdout",
     "output_type": "stream",
     "text": [
      "{2, 3, 4, 5, 'c', 'a', 'b'}\n"
     ]
    }
   ],
   "source": [
    "#updating the alphabet list\n",
    "list1 = [1,2,3,4]\n",
    "list2 = [2,3,4,5]\n",
    "alphabet_set = {'a','b','c'}\n",
    "\n",
    "set1 = set(list2)\n",
    "set1.update(alphabet_set)\n",
    "\n",
    "print(set1)"
   ]
  },
  {
   "cell_type": "code",
   "execution_count": 8,
   "id": "18faaed1",
   "metadata": {},
   "outputs": [
    {
     "name": "stdout",
     "output_type": "stream",
     "text": [
      "Updated set: {1, 2, 3, 4, 5, 6, 7, 8, 9}\n"
     ]
    }
   ],
   "source": [
    "#add element of the dictionay to set;\n",
    "number = {1,2,3,4,5}\n",
    "num_Dict = {6:\"six\",7:\"seven\",8:\"eight\",9:\"nine\"}\n",
    "number.update(num_Dict)\n",
    "print(\"Updated set:\",number)\n"
   ]
  },
  {
   "cell_type": "code",
   "execution_count": 11,
   "id": "4995c845",
   "metadata": {},
   "outputs": [
    {
     "name": "stdout",
     "output_type": "stream",
     "text": [
      "set1 U set2:   {2, 3, 4, 5, 6, 7}\n",
      "set1 U set2 U set2:  {2, 3, 4, 5, 6, 7, 8, 9}\n"
     ]
    }
   ],
   "source": [
    "#union using union function\n",
    "set1 = {2,3,4,5}\n",
    "set2 = {4,5,6,7}\n",
    "set3 = {6,7,8,9}\n",
    "\n",
    "#union of two sets\n",
    "print(\"set1 U set2:  \",set1.union(set2))\n",
    "\n",
    "#union of three sets\n",
    "print(\"set1 U set2 U set2: \",set1.union(set2,set3))\n"
   ]
  },
  {
   "cell_type": "code",
   "execution_count": 12,
   "id": "771a587d",
   "metadata": {},
   "outputs": [
    {
     "name": "stdout",
     "output_type": "stream",
     "text": [
      "set1 U set2:   {2, 3, 4, 5, 6, 7}\n"
     ]
    }
   ],
   "source": [
    "#union using | simbol\n",
    "set1 = {2,3,4,5}\n",
    "set2 = {4,5,6,7}\n",
    "set3 = {6,7,8,9}\n",
    "\n",
    "#union of two sets\n",
    "print(\"set1 U set2:  \",set1|set2)"
   ]
  },
  {
   "cell_type": "code",
   "execution_count": 13,
   "id": "136a211f",
   "metadata": {},
   "outputs": [
    {
     "name": "stdout",
     "output_type": "stream",
     "text": [
      "set1 U set2:   {4, 5}\n"
     ]
    }
   ],
   "source": [
    "#intersection \n",
    "set1 = {2,3,4,5}\n",
    "set2 = {4,5,6,7}\n",
    "set3 = {6,7,8,9}\n",
    "\n",
    "#union of two sets\n",
    "print(\"set1 U set2:  \",set1.intersection(set2))\n",
    "\n",
    "#union of three sets\n",
    "print(\"set1 U set2 U set2: \",set1.intersection(set2,set3))\n"
   ]
  },
  {
   "cell_type": "code",
   "execution_count": 15,
   "id": "81d97fb0",
   "metadata": {},
   "outputs": [
    {
     "name": "stdout",
     "output_type": "stream",
     "text": [
      "set1 U set2:   {4, 5}\n",
      "set1 U set2 U set2:  set()\n"
     ]
    }
   ],
   "source": [
    "#intersection using & \n",
    "set1 = {2,3,4,5}\n",
    "set2 = {4,5,6,7}\n",
    "set3 = {6,7,8,9}\n",
    "\n",
    "#union of two sets\n",
    "print(\"set1 U set2:  \",set1&set2)\n",
    "\n",
    "#union of three sets\n",
    "print(\"set1 U set2 U set2: \",set1&set2&set3)"
   ]
  },
  {
   "cell_type": "code",
   "execution_count": 17,
   "id": "ce5fc4c6",
   "metadata": {},
   "outputs": [
    {
     "name": "stdout",
     "output_type": "stream",
     "text": [
      "{50, 10, 20}\n",
      "{80, 100, 60}\n",
      "{50, 10, 20}\n",
      "{80, 100, 60}\n"
     ]
    }
   ],
   "source": [
    "#difference()\n",
    "A = {10,20,30,40,50}\n",
    "B = {100,30,80,40,60}\n",
    "print(A.difference(B))\n",
    "print(B.difference(A))\n",
    "\n",
    "#alternative\n",
    "print(A-B)\n",
    "print(B-A)"
   ]
  },
  {
   "cell_type": "code",
   "execution_count": null,
   "id": "904b4c7f",
   "metadata": {},
   "outputs": [],
   "source": [
    "list1 =[1,2,3]\n",
    "list2 = [2,3,4]\n",
    "list3 = [3,4,5]\n",
    "#convert list to sets\n",
    "set1 = set(list1)\n",
    "set2 = set(list2)\n",
    "\n",
    "#print the symmetr"
   ]
  }
 ],
 "metadata": {
  "kernelspec": {
   "display_name": "Python 3 (ipykernel)",
   "language": "python",
   "name": "python3"
  },
  "language_info": {
   "codemirror_mode": {
    "name": "ipython",
    "version": 3
   },
   "file_extension": ".py",
   "mimetype": "text/x-python",
   "name": "python",
   "nbconvert_exporter": "python",
   "pygments_lexer": "ipython3",
   "version": "3.11.5"
  }
 },
 "nbformat": 4,
 "nbformat_minor": 5
}
