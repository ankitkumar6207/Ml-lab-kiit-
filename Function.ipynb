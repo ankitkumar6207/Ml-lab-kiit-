{
 "cells": [
  {
   "cell_type": "code",
   "execution_count": 1,
   "id": "60a1669c",
   "metadata": {},
   "outputs": [
    {
     "name": "stdout",
     "output_type": "stream",
     "text": [
      "Hello first call to UDF\n",
      "2nd call to user defined function!!\n",
      "Again thirt time call to the same functions\n"
     ]
    }
   ],
   "source": [
    "def printme(str):\n",
    "    \"This prints a passed string function\" #doc string\n",
    "    print(str)\n",
    "    return \n",
    "printme(\"Hello first call to UDF\")\n",
    "printme(\"2nd call to user defined function!!\")\n",
    "printme(\"Again thirt time call to the same functions\")"
   ]
  },
  {
   "cell_type": "code",
   "execution_count": 2,
   "id": "fdf39347",
   "metadata": {},
   "outputs": [
    {
     "name": "stdout",
     "output_type": "stream",
     "text": [
      "values inside the functions: [20, 30, 40, [1, 2, 3, 4, 5]]\n",
      "values outside the functios: [20, 30, 40, [1, 2, 3, 4, 5]]\n"
     ]
    }
   ],
   "source": [
    "#all parameters (arguments) in the python are passed by reference\n",
    "myList = [20,30,40]\n",
    "def changes(any_list):\n",
    "    \"this changes a passed list\"\n",
    "    any_list.append([1,2,3,4,5])\n",
    "    print(\"values inside the functions:\",any_list)\n",
    "    return \n",
    "changes(myList)\n",
    "print(\"values outside the functios:\",myList)"
   ]
  },
  {
   "cell_type": "code",
   "execution_count": 3,
   "id": "48a232e2",
   "metadata": {},
   "outputs": [
    {
     "name": "stdout",
     "output_type": "stream",
     "text": [
      "My String\n"
     ]
    }
   ],
   "source": [
    "#pass value to argument during calling\n",
    "def printTme(str):\n",
    "    \"this prints a passed string\"\n",
    "    print(str)\n",
    "    return \n",
    "printTme(str = \"My String\")"
   ]
  },
  {
   "cell_type": "code",
   "execution_count": 4,
   "id": "7c32d95a",
   "metadata": {},
   "outputs": [
    {
     "name": "stdout",
     "output_type": "stream",
     "text": [
      "Name:  ankit\n",
      "age:  50\n",
      "Name:  mikki\n",
      "age:  35\n"
     ]
    }
   ],
   "source": [
    "def printinfo(name,age =35):\n",
    "    print(\"Name: \",name)\n",
    "    print(\"age: \",age);\n",
    "    return \n",
    "printinfo(age =50,name =\"ankit\")\n",
    "printinfo(name = \"mikki\")\n"
   ]
  },
  {
   "cell_type": "code",
   "execution_count": 5,
   "id": "bd8c5b79",
   "metadata": {},
   "outputs": [
    {
     "name": "stdout",
     "output_type": "stream",
     "text": [
      "output is \n",
      "10\n",
      "output is \n",
      "12\n",
      "23\n",
      "45\n",
      "45\n",
      "Hello\n",
      "h\n"
     ]
    }
   ],
   "source": [
    "#accepting more values through (*variabl)\n",
    "#*variable : regarded as a variable hold multiple values as tuple\n",
    "\n",
    "def printinfo(*vartuple):\n",
    "    \"This is test\"\n",
    "    print(\"output is \")\n",
    "    for var in vartuple:\n",
    "        print(var)\n",
    "    return\n",
    "\n",
    "printinfo(10)\n",
    "printinfo(12,23,45,45,\"Hello\",'h')"
   ]
  },
  {
   "cell_type": "code",
   "execution_count": 6,
   "id": "5a6bf9eb",
   "metadata": {},
   "outputs": [
    {
     "name": "stdout",
     "output_type": "stream",
     "text": [
      "output is \n",
      "(10,)\n",
      "(10, 20, 30, 40, 'hello', 'h', 'goodmorning')\n",
      "10 20 30 40 hello h goodmorning "
     ]
    }
   ],
   "source": [
    "def printinfo( *vartuple ):\n",
    "    \"this is test\"\n",
    "    return vartuple\n",
    "def name():\n",
    "    print(\"output is \")\n",
    "    mytuple = printinfo(10)\n",
    "    print(mytuple)\n",
    "    mytuple = printinfo(10,20,30,40,\"hello\",'h','goodmorning')\n",
    "    print(mytuple)\n",
    "    for var in mytuple:\n",
    "        print(var,end =\" \")\n",
    "name()"
   ]
  },
  {
   "cell_type": "code",
   "execution_count": 7,
   "id": "b9175d0b",
   "metadata": {},
   "outputs": [
    {
     "name": "stdout",
     "output_type": "stream",
     "text": [
      "sum is  150\n",
      "product is  12000000\n"
     ]
    }
   ],
   "source": [
    "def calc(*vartuple):\n",
    "    pro =1\n",
    "    sum =0\n",
    "    for var in vartuple:\n",
    "        sum = sum+var\n",
    "        pro = pro*var\n",
    "    return (sum,pro)\n",
    "    \n",
    "def main():\n",
    "    [s,p] = calc(10,20,30,40,50)\n",
    "    print(\"sum is \",s)\n",
    "    print(\"product is \",p)\n",
    "    return \n",
    "main()\n",
    "    "
   ]
  },
  {
   "cell_type": "code",
   "execution_count": 8,
   "id": "f373f955",
   "metadata": {},
   "outputs": [
    {
     "name": "stdout",
     "output_type": "stream",
     "text": [
      "sum is  25\n",
      "Difference is  15\n",
      "division is: 4.0\n",
      "product is  100\n"
     ]
    }
   ],
   "source": [
    "def calc(x,y):\n",
    "    pro =1\n",
    "    sum =0\n",
    "    subt = 0\n",
    "    div = 0\n",
    "    \n",
    "    sum=x+y\n",
    "    subt = x-y\n",
    "    pro = x*y\n",
    "    div = x/y\n",
    "    return (sum,subt,pro,div)\n",
    "def main():\n",
    "    [s,st,p,d]=calc(20,5)\n",
    "    print(\"sum is \",s)\n",
    "    print(\"Difference is \",st)\n",
    "    print(\"division is:\",d)\n",
    "    print(\"product is \",p)\n",
    "main()"
   ]
  },
  {
   "cell_type": "code",
   "execution_count": 9,
   "id": "d8ba0f38",
   "metadata": {},
   "outputs": [
    {
     "name": "stdout",
     "output_type": "stream",
     "text": [
      "\n",
      "Result of **kwargs\n",
      "name = viky\n",
      "info = your age\n",
      "age = 30\n"
     ]
    }
   ],
   "source": [
    "#using keywords arguments i.e keyword with value\n",
    "def myFun(**kwargs):\n",
    "    for key, value in kwargs.items():\n",
    "        print(\"%s = %s\"%(key,value))\n",
    "        \n",
    "print(\"\\nResult of **kwargs\")\n",
    "myFun(name =\"viky\",info = 'your age',age = 30)"
   ]
  },
  {
   "cell_type": "code",
   "execution_count": 10,
   "id": "2a434d8a",
   "metadata": {},
   "outputs": [
    {
     "name": "stdout",
     "output_type": "stream",
     "text": [
      "value of total:  50\n",
      "value of total  40\n"
     ]
    }
   ],
   "source": [
    "#anonymous function lambda : used to execute function in one line and it only excute single operation\n",
    "sum = lambda arg1,arg2:arg1+arg2;\n",
    "print(\"value of total: \",sum(20,30))\n",
    "print(\"value of total \",sum(20,20))"
   ]
  },
  {
   "cell_type": "code",
   "execution_count": 11,
   "id": "10db928b",
   "metadata": {},
   "outputs": [
    {
     "name": "stdout",
     "output_type": "stream",
     "text": [
      "value of equation : 140\n",
      "value of equation:  460\n"
     ]
    }
   ],
   "source": [
    "eqn = lambda x,y:x**2+2*x+y\n",
    "print(\"value of equation :\",eqn(10,20))\n",
    "print(\"value of equation: \",eqn(20,20))"
   ]
  },
  {
   "cell_type": "code",
   "execution_count": 12,
   "id": "544ded6c",
   "metadata": {},
   "outputs": [
    {
     "ename": "KeyboardInterrupt",
     "evalue": "Interrupted by user",
     "output_type": "error",
     "traceback": [
      "\u001b[1;31m---------------------------------------------------------------------------\u001b[0m",
      "\u001b[1;31mKeyboardInterrupt\u001b[0m                         Traceback (most recent call last)",
      "Cell \u001b[1;32mIn[12], line 6\u001b[0m\n\u001b[0;32m      2\u001b[0m     SI \u001b[38;5;241m=\u001b[39m (p\u001b[38;5;241m*\u001b[39mr\u001b[38;5;241m*\u001b[39mt)\u001b[38;5;241m/\u001b[39m\u001b[38;5;241m100\u001b[39m\n\u001b[0;32m      3\u001b[0m     \u001b[38;5;28;01mreturn\u001b[39;00m SI\n\u001b[1;32m----> 6\u001b[0m principal \u001b[38;5;241m=\u001b[39m \u001b[38;5;28mint\u001b[39m(\u001b[38;5;28minput\u001b[39m(\u001b[38;5;124m\"\u001b[39m\u001b[38;5;124menter the principal\u001b[39m\u001b[38;5;124m\"\u001b[39m))\n\u001b[0;32m      7\u001b[0m rate \u001b[38;5;241m=\u001b[39m \u001b[38;5;28mint\u001b[39m(\u001b[38;5;28minput\u001b[39m(\u001b[38;5;124m\"\u001b[39m\u001b[38;5;124menter the rate\u001b[39m\u001b[38;5;124m\"\u001b[39m))\n\u001b[0;32m      8\u001b[0m time \u001b[38;5;241m=\u001b[39m \u001b[38;5;28mint\u001b[39m(\u001b[38;5;28minput\u001b[39m(\u001b[38;5;124m\"\u001b[39m\u001b[38;5;124menter time\u001b[39m\u001b[38;5;124m\"\u001b[39m))\n",
      "File \u001b[1;32mC:\\ProgramData\\anaconda3\\Lib\\site-packages\\ipykernel\\kernelbase.py:1202\u001b[0m, in \u001b[0;36mKernel.raw_input\u001b[1;34m(self, prompt)\u001b[0m\n\u001b[0;32m   1200\u001b[0m     msg \u001b[38;5;241m=\u001b[39m \u001b[38;5;124m\"\u001b[39m\u001b[38;5;124mraw_input was called, but this frontend does not support input requests.\u001b[39m\u001b[38;5;124m\"\u001b[39m\n\u001b[0;32m   1201\u001b[0m     \u001b[38;5;28;01mraise\u001b[39;00m StdinNotImplementedError(msg)\n\u001b[1;32m-> 1202\u001b[0m \u001b[38;5;28;01mreturn\u001b[39;00m \u001b[38;5;28mself\u001b[39m\u001b[38;5;241m.\u001b[39m_input_request(\n\u001b[0;32m   1203\u001b[0m     \u001b[38;5;28mstr\u001b[39m(prompt),\n\u001b[0;32m   1204\u001b[0m     \u001b[38;5;28mself\u001b[39m\u001b[38;5;241m.\u001b[39m_parent_ident[\u001b[38;5;124m\"\u001b[39m\u001b[38;5;124mshell\u001b[39m\u001b[38;5;124m\"\u001b[39m],\n\u001b[0;32m   1205\u001b[0m     \u001b[38;5;28mself\u001b[39m\u001b[38;5;241m.\u001b[39mget_parent(\u001b[38;5;124m\"\u001b[39m\u001b[38;5;124mshell\u001b[39m\u001b[38;5;124m\"\u001b[39m),\n\u001b[0;32m   1206\u001b[0m     password\u001b[38;5;241m=\u001b[39m\u001b[38;5;28;01mFalse\u001b[39;00m,\n\u001b[0;32m   1207\u001b[0m )\n",
      "File \u001b[1;32mC:\\ProgramData\\anaconda3\\Lib\\site-packages\\ipykernel\\kernelbase.py:1245\u001b[0m, in \u001b[0;36mKernel._input_request\u001b[1;34m(self, prompt, ident, parent, password)\u001b[0m\n\u001b[0;32m   1242\u001b[0m \u001b[38;5;28;01mexcept\u001b[39;00m \u001b[38;5;167;01mKeyboardInterrupt\u001b[39;00m:\n\u001b[0;32m   1243\u001b[0m     \u001b[38;5;66;03m# re-raise KeyboardInterrupt, to truncate traceback\u001b[39;00m\n\u001b[0;32m   1244\u001b[0m     msg \u001b[38;5;241m=\u001b[39m \u001b[38;5;124m\"\u001b[39m\u001b[38;5;124mInterrupted by user\u001b[39m\u001b[38;5;124m\"\u001b[39m\n\u001b[1;32m-> 1245\u001b[0m     \u001b[38;5;28;01mraise\u001b[39;00m \u001b[38;5;167;01mKeyboardInterrupt\u001b[39;00m(msg) \u001b[38;5;28;01mfrom\u001b[39;00m \u001b[38;5;28;01mNone\u001b[39;00m\n\u001b[0;32m   1246\u001b[0m \u001b[38;5;28;01mexcept\u001b[39;00m \u001b[38;5;167;01mException\u001b[39;00m:\n\u001b[0;32m   1247\u001b[0m     \u001b[38;5;28mself\u001b[39m\u001b[38;5;241m.\u001b[39mlog\u001b[38;5;241m.\u001b[39mwarning(\u001b[38;5;124m\"\u001b[39m\u001b[38;5;124mInvalid Message:\u001b[39m\u001b[38;5;124m\"\u001b[39m, exc_info\u001b[38;5;241m=\u001b[39m\u001b[38;5;28;01mTrue\u001b[39;00m)\n",
      "\u001b[1;31mKeyboardInterrupt\u001b[0m: Interrupted by user"
     ]
    }
   ],
   "source": [
    "def simpleInterest(p,r,t):\n",
    "    SI = (p*r*t)/100\n",
    "    return SI\n",
    "\n",
    "\n",
    "principal = int(input(\"enter the principal\"))\n",
    "rate = int(input(\"enter the rate\"))\n",
    "time = int(input(\"enter time\"))\n",
    "print(simpleInterest(principal,rate,time))"
   ]
  },
  {
   "cell_type": "code",
   "execution_count": null,
   "id": "7bd4b649",
   "metadata": {},
   "outputs": [],
   "source": [
    "def factorial(n):\n",
    "    f = 1\n",
    "    for i in range(1,n+1):\n",
    "        f =f*i\n",
    "    return f\n",
    "number = int(input(\"enter a number\"))\n",
    "print(\"factorial of given number is \",factorial(number))\n",
    "        "
   ]
  },
  {
   "cell_type": "code",
   "execution_count": null,
   "id": "f5e4968c",
   "metadata": {},
   "outputs": [],
   "source": [
    "def fibonacci(n):\n",
    "    a=0\n",
    "    b=1\n",
    "    c =0\n",
    "    for i in range(2,n):\n",
    "        c = a+b\n",
    "        print(c)\n",
    "        a=b\n",
    "        b=c\n",
    "        \n",
    "number = int(input(\"enter range\"))\n",
    "fibonacci(number)"
   ]
  },
  {
   "cell_type": "code",
   "execution_count": null,
   "id": "05f390e3",
   "metadata": {},
   "outputs": [],
   "source": []
  },
  {
   "cell_type": "code",
   "execution_count": null,
   "id": "f8a6be83",
   "metadata": {},
   "outputs": [],
   "source": []
  }
 ],
 "metadata": {
  "kernelspec": {
   "display_name": "Python 3 (ipykernel)",
   "language": "python",
   "name": "python3"
  },
  "language_info": {
   "codemirror_mode": {
    "name": "ipython",
    "version": 3
   },
   "file_extension": ".py",
   "mimetype": "text/x-python",
   "name": "python",
   "nbconvert_exporter": "python",
   "pygments_lexer": "ipython3",
   "version": "3.11.5"
  }
 },
 "nbformat": 4,
 "nbformat_minor": 5
}
