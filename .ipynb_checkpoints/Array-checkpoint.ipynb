{
 "cells": [
  {
   "cell_type": "code",
   "execution_count": null,
   "id": "62051f51",
   "metadata": {},
   "outputs": [],
   "source": [
    "#array in python\n",
    "import array\n",
    "arr= array.array('i',[1,2,3,4,5,6,7])\n",
    "print(arr)\n",
    "\n",
    "\n"
   ]
  },
  {
   "cell_type": "code",
   "execution_count": null,
   "id": "ad9fdff4",
   "metadata": {},
   "outputs": [],
   "source": [
    "arr = array.array('i',[1 for x in range (7) ])\n",
    "print(arr)"
   ]
  },
  {
   "cell_type": "code",
   "execution_count": null,
   "id": "4de9777c",
   "metadata": {},
   "outputs": [],
   "source": [
    "from array import *\n",
    "array1 = array('i',[10,20,30,40,50])\n",
    "for x in array1:\n",
    "    print(x)"
   ]
  },
  {
   "cell_type": "code",
   "execution_count": null,
   "id": "c83688a2",
   "metadata": {
    "scrolled": true
   },
   "outputs": [],
   "source": [
    "\n",
    "import array as arr\n",
    "array1 = arr.array('d',[])\n",
    "for x in range(10):\n",
    "    array1.append(x)\n",
    "for x in array1:\n",
    "    print(x)"
   ]
  },
  {
   "cell_type": "code",
   "execution_count": null,
   "id": "e47dc08b",
   "metadata": {},
   "outputs": [],
   "source": [
    "#append and insert\n",
    "import array\n",
    "arr = array.array('i',[1,2,3])\n",
    "print(arr)\n",
    "arr.append(4)\n",
    "print(arr)\n",
    "arr.insert(2,5)\n",
    "print(arr)"
   ]
  },
  {
   "cell_type": "code",
   "execution_count": null,
   "id": "ad7fad67",
   "metadata": {},
   "outputs": [],
   "source": [
    "#pop(),remove()\n",
    "import array\n",
    "arr = array.array('i',[1,2,3,4,1,12,34])\n",
    "print(arr)\n",
    "print(\"the popped element is :\",end=\" \")\n",
    "print(arr.pop(2))#pop will take index\n",
    "print(arr)\n",
    "arr.remove(1)\n",
    "print(arr)"
   ]
  },
  {
   "cell_type": "code",
   "execution_count": null,
   "id": "0689b706",
   "metadata": {},
   "outputs": [],
   "source": [
    "#reverse()\n",
    "import array\n",
    "arr = array.array('i',[1,2,3,4,1,2])\n",
    "arr.reverse()\n",
    "print(\"the array after reversing is \")\n",
    "for i in range(0,6):\n",
    "    print(arr[i],end=\" \")"
   ]
  },
  {
   "cell_type": "code",
   "execution_count": null,
   "id": "45797911",
   "metadata": {},
   "outputs": [],
   "source": [
    "#Matrix\n",
    "#python does not hav built-in type of matrices,However we can treat list of a list as a matrix.\n",
    "A=[1,2,3],[4,5,6]\n",
    "#printing the matrix\n",
    "for i in range(2):\n",
    "    for j in range(3):\n",
    "        print(A[i][j],end=\" \")\n",
    "        \n",
    "    print()"
   ]
  },
  {
   "cell_type": "code",
   "execution_count": null,
   "id": "eca00831",
   "metadata": {},
   "outputs": [],
   "source": [
    "#create a dyanamic matrix using for loop\n",
    "n=3\n",
    "m=4\n",
    "a=[0]*n\n",
    "for i in range(n):\n",
    "    a[i]=[0]*m\n",
    "print(a)"
   ]
  },
  {
   "cell_type": "code",
   "execution_count": null,
   "id": "dd074528",
   "metadata": {},
   "outputs": [],
   "source": [
    "#create an 8 * 5 matrix of 0's\n",
    "w,h=8,5;\n",
    "\n",
    "MyMatrix = [ [0 for x in range( w )] for y in range ( h )]\n",
    "\n",
    "for i in range(5):\n",
    "    print(MyMatrix[i])"
   ]
  },
  {
   "cell_type": "code",
   "execution_count": null,
   "id": "7a398c82",
   "metadata": {},
   "outputs": [],
   "source": [
    "#input data into a matrix having different row and columns and print it\n",
    "print(\"Enter the row and column\")\n",
    "r = int(input(\"enter the number of rows in a matrix\"))\n",
    "c= int(input(\"enter the number of columns in a matrix\"))\n",
    "a =[[int(input())for x in range(c)]for y in range(r)]\n",
    "for i in range(r):\n",
    "    for j in range(c):\n",
    "        print(a[i][j],end=\" \")\n",
    "    print()"
   ]
  },
  {
   "cell_type": "markdown",
   "id": "9ebe450d",
   "metadata": {},
   "source": [
    " #using numpy create an array\n",
    " import numpy as np\n",
    " arrr = np.array([1,2,3,4,5])\n",
    " print(arr)"
   ]
  },
  {
   "cell_type": "code",
   "execution_count": null,
   "id": "270f510c",
   "metadata": {},
   "outputs": [],
   "source": [
    "#using numpy create an array \n",
    "import numpy as np \n",
    "arr = np.array([1,2,3,4,5])\n",
    "print(arr)"
   ]
  },
  {
   "cell_type": "code",
   "execution_count": null,
   "id": "9c801995",
   "metadata": {},
   "outputs": [],
   "source": [
    "#array sort using numpy\n",
    "import numpy as np\n",
    "arr = np.array([3,4,1,2,0])\n",
    "print(np.sort(arr))"
   ]
  },
  {
   "cell_type": "code",
   "execution_count": null,
   "id": "a23d0795",
   "metadata": {},
   "outputs": [],
   "source": [
    "#sort array in descending order(flip())\n",
    "import numpy as np\n",
    "arr = np.array([3,4,1,2,0])\n",
    "arr =np.flip(np.sort(arr))\n",
    "print(arr)"
   ]
  },
  {
   "cell_type": "code",
   "execution_count": null,
   "id": "3092570b",
   "metadata": {},
   "outputs": [],
   "source": [
    "#array join using numpy\n",
    "import numpy as np\n",
    "arr1= np.array([1,2,3])\n",
    "arr2 = np.array([4,5,6])\n",
    "arr = np.concatenate((arr1,arr2))\n",
    "print(arr)"
   ]
  },
  {
   "cell_type": "code",
   "execution_count": null,
   "id": "d1fbd1d8",
   "metadata": {},
   "outputs": [],
   "source": [
    "#linear space linspace(start,stop,n) using numpy\n",
    "np.linspace(0,2,20)\n",
    "np.linspace(0,1,20)"
   ]
  },
  {
   "cell_type": "code",
   "execution_count": null,
   "id": "f5a2a1b6",
   "metadata": {},
   "outputs": [],
   "source": [
    "#matrix of zeros and ones\n",
    "import numpy as np\n",
    "zeros_array = np.zeros((2,3),dtype=np.int32)\n",
    "print(zeros_array)\n",
    "\n",
    "ones_array = np.ones((2,3),dtype=np.int32)\n",
    "print(ones_array)"
   ]
  },
  {
   "cell_type": "code",
   "execution_count": 4,
   "id": "01a53d6c",
   "metadata": {},
   "outputs": [
    {
     "name": "stdout",
     "output_type": "stream",
     "text": [
      "[[1 2 3]\n",
      " [4 5 6]]\n"
     ]
    }
   ],
   "source": [
    "import numpy as np\n",
    "arr = np.array([[1,2,3],[4,5,6]])\n",
    "print(arr)"
   ]
  },
  {
   "cell_type": "code",
   "execution_count": null,
   "id": "b9033fbf",
   "metadata": {},
   "outputs": [],
   "source": [
    "#generating list\n",
    "list_1 = [1,2,3,4]\n",
    "list_2=[5,6,7,8]\n",
    "list_3 = [9,10,11,12]\n",
    "\n",
    "#creating numpy array\n",
    "sample_array = np.array([list_1,list_2,list_3])\n",
    "print(\"numpy array is \")\n",
    "print(sample_array)"
   ]
  },
  {
   "cell_type": "code",
   "execution_count": 6,
   "id": "d2c6614f",
   "metadata": {},
   "outputs": [
    {
     "name": "stdout",
     "output_type": "stream",
     "text": [
      "[ 0  1  2  3  4  5  6  7  8  9 10 11 12 13 14]\n",
      "[[ 0  1  2  3  4]\n",
      " [ 5  6  7  8  9]\n",
      " [10 11 12 13 14]]\n",
      "the new array is as follows:\n",
      "[[ 0  1  2  3  4]\n",
      " [ 5  6  7  8  9]\n",
      " [10 11 12 13 14]]\n"
     ]
    }
   ],
   "source": [
    "import numpy as np\n",
    "a = np.arange(15)\n",
    "print(a)\n",
    "\n",
    "b = a.reshape(3,5)\n",
    "print(b)\n",
    "\n",
    "\n",
    "a = np.arange(15).reshape(3,5)\n",
    "print(\"the new array is as follows:\")\n",
    "print(a)"
   ]
  },
  {
   "cell_type": "code",
   "execution_count": 9,
   "id": "b715d022",
   "metadata": {},
   "outputs": [
    {
     "name": "stdout",
     "output_type": "stream",
     "text": [
      "[[20 21 22 23 24]\n",
      " [25 26 27 28 29]\n",
      " [30 31 32 33 34]\n",
      " [35 36 37 38 39]]\n"
     ]
    }
   ],
   "source": [
    "#Q) create an array with starting value 20 and total values.reshape it with all possible shapes.\n",
    "import numpy as np\n",
    "a = np.arange(20,40).reshape(1,20)\n",
    "a = np.arange(20,40).reshape(2,10)\n",
    "a = np.arange(20,40).reshape(4,5)\n",
    "\n",
    "print(a)"
   ]
  },
  {
   "cell_type": "code",
   "execution_count": 17,
   "id": "0c7df435",
   "metadata": {},
   "outputs": [
    {
     "name": "stdout",
     "output_type": "stream",
     "text": [
      "[ 0  1  2  3  4  5  6  7  8  9 10 11 12 13 14 15 16 17 18 19 20 21 22 23]\n",
      "\n",
      "size of the array 24\n",
      "shape of the array:  (24,)\n",
      "the above array is 1 dimensional\n",
      "\n",
      "\n",
      "[ 0  1  2  3  4  5  6  7  8  9 10 11 12 13 14 15 16 17 18 19 20 21 22 23]\n",
      "\n",
      "size of the array 24\n",
      "shape of the array:  (4, 6)\n",
      "the above array is 2 dimensional\n",
      "\n",
      "\n",
      "[ 0  1  2  3  4  5  6  7  8  9 10 11 12 13 14 15 16 17 18 19 20 21 22 23]\n",
      "\n",
      "size of the array 24\n",
      "shape of the array:  (2, 4, 3)\n",
      "the above array is 3 dimensional\n",
      "\n",
      "\n"
     ]
    }
   ],
   "source": [
    "import numpy as np\n",
    "a = np.arange(24)\n",
    "print(a)\n",
    "print()\n",
    "print(\"size of the array\",a.size)\n",
    "print(\"shape of the array: \",a.shape)\n",
    "print(\"the above array is {0} dimensional\".format(a.ndim))\n",
    "print(\"\\n\")\n",
    "\n",
    "#now reshape it\n",
    "x = a.reshape(4,6)\n",
    "print(a)\n",
    "print()\n",
    "print(\"size of the array\",x.size)\n",
    "print(\"shape of the array: \",x.shape)\n",
    "print(\"the above array is {0} dimensional\".format(x.ndim))\n",
    "print(\"\\n\")\n",
    "\n",
    "y = a.reshape(2,4,3)\n",
    "print(a)\n",
    "print()\n",
    "print(\"size of the array\",y.size)\n",
    "print(\"shape of the array: \",y.shape)\n",
    "print(\"the above array is {0} dimensional\".format(y.ndim))\n",
    "print(\"\\n\")\n"
   ]
  },
  {
   "cell_type": "code",
   "execution_count": 19,
   "id": "cdde9065",
   "metadata": {},
   "outputs": [
    {
     "name": "stdout",
     "output_type": "stream",
     "text": [
      "[[ 8 10]\n",
      " [13 15]]\n",
      "[[-6 -6]\n",
      " [-5 -5]]\n",
      "[[0.14285714 0.25      ]\n",
      " [0.44444444 0.5       ]]\n",
      "[[ 7 16]\n",
      " [36 50]]\n",
      "the product of two matieces : \n",
      "[[25 28]\n",
      " [73 82]]\n"
     ]
    }
   ],
   "source": [
    "import numpy\n",
    "#two array are initialized by value\n",
    "x = numpy.array([[1,2],[4,5]])\n",
    "y = numpy.array([[7,8],[9,10]])\n",
    "print(numpy.add(x,y))\n",
    "print(numpy.subtract(x,y))\n",
    "print(numpy.divide(x,y))\n",
    "print(numpy.multiply(x,y))\n",
    "print(\"the product of two matieces : \")\n",
    "print(numpy.dot(x,y))"
   ]
  },
  {
   "cell_type": "code",
   "execution_count": 21,
   "id": "b2a00ca8",
   "metadata": {},
   "outputs": [
    {
     "name": "stdout",
     "output_type": "stream",
     "text": [
      "[[ 4  1  9]\n",
      " [12  4  1]\n",
      " [ 4  5  6]]\n",
      "[[ 4 12  4]\n",
      " [ 1  4  5]\n",
      " [ 9  1  6]]\n"
     ]
    }
   ],
   "source": [
    "#numpy.transpose()\n",
    "import numpy as np\n",
    "mat = np.matrix('[4,1,9;12,4,1;4,5,6]')\n",
    "mat1 = mat.transpose();\n",
    "#we can also use mat1 = mat.T\n",
    "print(mat)\n",
    "print(mat1)"
   ]
  },
  {
   "cell_type": "code",
   "execution_count": null,
   "id": "ac621388",
   "metadata": {},
   "outputs": [],
   "source": []
  }
 ],
 "metadata": {
  "kernelspec": {
   "display_name": "Python 3 (ipykernel)",
   "language": "python",
   "name": "python3"
  },
  "language_info": {
   "codemirror_mode": {
    "name": "ipython",
    "version": 3
   },
   "file_extension": ".py",
   "mimetype": "text/x-python",
   "name": "python",
   "nbconvert_exporter": "python",
   "pygments_lexer": "ipython3",
   "version": "3.11.5"
  }
 },
 "nbformat": 4,
 "nbformat_minor": 5
}
