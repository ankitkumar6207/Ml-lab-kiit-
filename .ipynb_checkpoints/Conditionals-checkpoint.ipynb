{
 "cells": [
  {
   "cell_type": "code",
   "execution_count": 1,
   "id": "bd80b4e3",
   "metadata": {},
   "outputs": [
    {
     "name": "stdout",
     "output_type": "stream",
     "text": [
      "enter a number34\n",
      "enter 2nd number45\n",
      "enter third number67\n",
      "c is greatest\n"
     ]
    }
   ],
   "source": [
    "a = int(input(\"enter a number\"))\n",
    "b = int(input(\"enter 2nd number\"))\n",
    "c = int(input(\"enter third number\"))\n",
    "if a>b and a>c:\n",
    "    print(\"a is greatest\")\n",
    "elif b>c:\n",
    "    print(\"b is greatest\")\n",
    "else :\n",
    "    print(\"c is greatest\")"
   ]
  },
  {
   "cell_type": "code",
   "execution_count": 4,
   "id": "748a32e5",
   "metadata": {},
   "outputs": [
    {
     "name": "stdout",
     "output_type": "stream",
     "text": [
      "[1, 0, 1, 0, 1, 0]\n"
     ]
    }
   ],
   "source": [
    "def remove_duplicate(arr):\n",
    "    i =0\n",
    "    while i<len(arr)-1:\n",
    "        if arr[i]==arr[i+1]:\n",
    "            arr.pop(i+1)\n",
    "        else:\n",
    "            i+=1\n",
    "            \n",
    "array = [1,1,0,1,0,1,0]\n",
    "remove_duplicate(array)\n",
    "print(array)"
   ]
  },
  {
   "cell_type": "code",
   "execution_count": 6,
   "id": "796aadc5",
   "metadata": {},
   "outputs": [
    {
     "name": "stdout",
     "output_type": "stream",
     "text": [
      "enter a number10\n",
      "enter number for division2\n",
      "enter number for division3\n",
      "either one or both the number can't divide the number\n"
     ]
    }
   ],
   "source": [
    "number  = int(input(\"enter a number\"))\n",
    "n1= int(input(\"enter number for division\"))\n",
    "n2= int(input(\"enter number for division\"))\n",
    "if number%n1==0 and number%n2==0:\n",
    "    print(\"both number can divide the number\")\n",
    "else:\n",
    "    print(\"either one or both the number can't divide the number\")\n",
    "    "
   ]
  },
  {
   "cell_type": "code",
   "execution_count": 15,
   "id": "c1acde50",
   "metadata": {},
   "outputs": [
    {
     "name": "stdout",
     "output_type": "stream",
     "text": [
      "enter a number60\n",
      "60\n",
      "60\n",
      "using the given value we can create triangle\n"
     ]
    }
   ],
   "source": [
    "x= int(input(\"enter a number\"))\n",
    "y =int(input())\n",
    "z= int(input())\n",
    "sum =x+y+z\n",
    "if sum==180:\n",
    "    print(\"using the given value we can create triangle\")\n",
    "else:\n",
    "    print(\"traingle can not posible\")"
   ]
  },
  {
   "cell_type": "code",
   "execution_count": 16,
   "id": "8aee95b1",
   "metadata": {},
   "outputs": [
    {
     "name": "stdout",
     "output_type": "stream",
     "text": [
      "enter the first side5\n",
      "enter the second side5\n",
      "enter the third side5\n",
      "triangle can be possible\n"
     ]
    }
   ],
   "source": [
    "a= int(input(\"enter the first side\"))\n",
    "b = int(input(\"enter the second side\"))\n",
    "c = int(input(\"enter the third side\"))\n",
    "\n",
    "if a+b>c and b+c>a and c+a>b:\n",
    "    print(\"triangle can be possible\")\n",
    "else:\n",
    "    print(\"traingle can not be possible\")"
   ]
  },
  {
   "cell_type": "code",
   "execution_count": 21,
   "id": "0f02d53d",
   "metadata": {},
   "outputs": [
    {
     "name": "stdout",
     "output_type": "stream",
     "text": [
      "enter a year1700\n",
      "not a leap year\n"
     ]
    }
   ],
   "source": [
    "year = int(input(\"enter a year\"))\n",
    "\n",
    "if ((year%400 == 0)or(year%100!=0 and year%4==0)):\n",
    "    print(\"leap year\")\n",
    "else:\n",
    "    print(\"not a leap year\")"
   ]
  },
  {
   "cell_type": "code",
   "execution_count": null,
   "id": "b395f078",
   "metadata": {},
   "outputs": [],
   "source": []
  }
 ],
 "metadata": {
  "kernelspec": {
   "display_name": "Python 3 (ipykernel)",
   "language": "python",
   "name": "python3"
  },
  "language_info": {
   "codemirror_mode": {
    "name": "ipython",
    "version": 3
   },
   "file_extension": ".py",
   "mimetype": "text/x-python",
   "name": "python",
   "nbconvert_exporter": "python",
   "pygments_lexer": "ipython3",
   "version": "3.11.5"
  }
 },
 "nbformat": 4,
 "nbformat_minor": 5
}
