{
 "cells": [
  {
   "cell_type": "code",
   "execution_count": 1,
   "id": "e592f139",
   "metadata": {},
   "outputs": [
    {
     "name": "stdout",
     "output_type": "stream",
     "text": [
      "ankit kumar\n"
     ]
    }
   ],
   "source": [
    "strings = \"ankit kumar\"\n",
    "print(strings)"
   ]
  },
  {
   "cell_type": "code",
   "execution_count": 2,
   "id": "c5b4c4d6",
   "metadata": {},
   "outputs": [
    {
     "name": "stdout",
     "output_type": "stream",
     "text": [
      "a\n",
      "n\n",
      "k\n",
      "i\n",
      "t\n",
      " \n",
      "k\n",
      "u\n",
      "m\n",
      "a\n",
      "r\n",
      "a n k i t   k u m a r "
     ]
    }
   ],
   "source": [
    "#looping through a string\n",
    "name = \"ankit kumar\"\n",
    "for x in name:\n",
    "    print(x)\n",
    "    \n",
    "for x in name:\n",
    "    print(x ,end =\" \")"
   ]
  },
  {
   "cell_type": "code",
   "execution_count": 4,
   "id": "842dc2d9",
   "metadata": {},
   "outputs": [
    {
     "name": "stdout",
     "output_type": "stream",
     "text": [
      "True\n",
      "yes free present in the string\n"
     ]
    }
   ],
   "source": [
    "#to check membersip in a string , operator \"in\"\n",
    "txt = \"the best things are life are free\"\n",
    "print(\"free\" in txt)\n",
    "\n",
    "if \"free\" in txt:\n",
    "    print(\"yes free present in the string\")"
   ]
  },
  {
   "cell_type": "code",
   "execution_count": 5,
   "id": "18b6bd04",
   "metadata": {},
   "outputs": [
    {
     "name": "stdout",
     "output_type": "stream",
     "text": [
      "No, free is not present in the txt\n"
     ]
    }
   ],
   "source": [
    "#to check membersip in a string , operator \"not in\"\n",
    "txt = \"Harry potter is one of the best series in the world\"\n",
    "if \"free\" not in txt:\n",
    "    print(\"No, free is not present in the txt\")"
   ]
  },
  {
   "cell_type": "code",
   "execution_count": 14,
   "id": "ceaeee39",
   "metadata": {},
   "outputs": [
    {
     "name": "stdout",
     "output_type": "stream",
     "text": [
      "ki\n",
      "Ankit\n",
      "['A', 'n', 'k', 'i', 't', ' ', 'k', 'u', 'm', 'a', 'r']\n",
      "kuma\n"
     ]
    }
   ],
   "source": [
    "#slicing in string\n",
    "name =\"Ankit kumar\"\n",
    "print(name[2:4])\n",
    "print(name[:5])\n",
    "print(list(name[0:]))\n",
    "print(name[-5:-1])"
   ]
  },
  {
   "cell_type": "code",
   "execution_count": 15,
   "id": "9784f1bf",
   "metadata": {},
   "outputs": [
    {
     "name": "stdout",
     "output_type": "stream",
     "text": [
      "ankitkumar\n",
      "ankit kumar\n"
     ]
    }
   ],
   "source": [
    "#string concatination\n",
    "str1 = \"ankit\"\n",
    "str2 = \"kumar\"\n",
    "string = str1 + str2\n",
    "print(string)\n",
    "\n",
    "print(str1+\" \"+str2)"
   ]
  },
  {
   "cell_type": "code",
   "execution_count": 24,
   "id": "63bb484b",
   "metadata": {},
   "outputs": [
    {
     "name": "stdout",
     "output_type": "stream",
     "text": [
      "my age is 21\n",
      "my name is john and my age is 23\n",
      "I want 7 pieces of item having code noI-234 and for I want {} pieces of item having code no{} and for {}dollarsdollars\n"
     ]
    }
   ],
   "source": [
    "#string formatting\n",
    "#ex1\n",
    "age = 21\n",
    "txt =\"my age is \"+str(age)\n",
    "print(txt)\n",
    "\n",
    "#ex2\n",
    "age =23\n",
    "txt = \"my name is john and my age is {}\"\n",
    "print(txt.format(age))\n",
    "\n",
    "#ex 3\n",
    "quantity = 7\n",
    "itemcode = 'I-234'\n",
    "price = 2344.23\n",
    "myOrder = \"I want {} pieces of item having code no{} and for {}dollars\"\n",
    "print(myOrder.format(quantity,itemcode,myOrder))"
   ]
  },
  {
   "cell_type": "code",
   "execution_count": 33,
   "id": "b4a07565",
   "metadata": {},
   "outputs": [
    {
     "name": "stdout",
     "output_type": "stream",
     "text": [
      "we are the eminet \"person\" from the india\n",
      "The path is C:\\Users\n",
      "Welcome students\n",
      " to kiit university\n",
      " bhubhaneswar odissa\n",
      "we are the eminent 'persons' from the pakistan\n"
     ]
    }
   ],
   "source": [
    "#escape sequence \n",
    "txt = \"we are the eminet \\\"person\\\" from the india\"\n",
    "print(txt);\n",
    "txt =\"The path is C:\\\\Users\"\n",
    "print(txt)\n",
    "txt = \"Welcome students\\n to kiit university\\n bhubhaneswar odissa\"\n",
    "print(txt)\n",
    "txt = \"we are the eminent \\'persons\\' from the pakistan\"\n",
    "print(txt)"
   ]
  },
  {
   "cell_type": "code",
   "execution_count": 48,
   "id": "02fda00d",
   "metadata": {},
   "outputs": [
    {
     "name": "stdout",
     "output_type": "stream",
     "text": [
      "Hello, and welcome to my world\n"
     ]
    }
   ],
   "source": [
    "#string methods :\n",
    "# 1.string capitalize() \n",
    "txt = \"hello, and welcome to my WORLD\"\n",
    "x = txt.capitalize()\n",
    "print(x)"
   ]
  },
  {
   "cell_type": "code",
   "execution_count": 46,
   "id": "bd0d7d36",
   "metadata": {},
   "outputs": [
    {
     "name": "stdout",
     "output_type": "stream",
     "text": [
      "python is awesome\n",
      "centered string :\n",
      "                 python is awesome                 \n",
      "centered string is :\n",
      " ****************python is awesome*****************\n"
     ]
    }
   ],
   "source": [
    "#center()\n",
    "string = \"python is awesome\"\n",
    "print(string)\n",
    "new_string = string.center(50)\n",
    "print(\"centered string :\\n\",new_string)\n",
    "new_string = string.center(50,\"*\")\n",
    "print(\"centered string is :\\n\",new_string)\n"
   ]
  },
  {
   "cell_type": "code",
   "execution_count": 49,
   "id": "7a69c305",
   "metadata": {},
   "outputs": [
    {
     "name": "stdout",
     "output_type": "stream",
     "text": [
      "python is awesome\n"
     ]
    }
   ],
   "source": [
    "#casefold()\n",
    "string = \"PYTHON IS AWESOME\"\n",
    "print(string.casefold())"
   ]
  },
  {
   "cell_type": "code",
   "execution_count": 51,
   "id": "2d3636d3",
   "metadata": {},
   "outputs": [
    {
     "name": "stdout",
     "output_type": "stream",
     "text": [
      "count of substring is  2\n",
      "the count is  2\n"
     ]
    }
   ],
   "source": [
    "#string method count()\n",
    "string = \"python is awesome isn't it\"\n",
    "substring = \"is\"\n",
    "count = string.count(substring)\n",
    "print(\"count of substring is \",count)\n",
    "\n",
    "string = \"python is awesome isn't it\"\n",
    "substring = 'i'\n",
    "#count after first 'i' and befor the last 'l'\n",
    "count = string.count(substring,8,25)\n",
    "print(\"the count is \",count)"
   ]
  },
  {
   "cell_type": "code",
   "execution_count": 54,
   "id": "db03266d",
   "metadata": {},
   "outputs": [
    {
     "name": "stdout",
     "output_type": "stream",
     "text": [
      "6\n",
      "1\n",
      "-1\n"
     ]
    }
   ],
   "source": [
    "#find() : it return the first index\n",
    "txt = \"Hello welcome to my world\"\n",
    "x =txt.find(\"welcome\")\n",
    "print(x)\n",
    "\n",
    "x = txt.find('e')\n",
    "print(x)\n",
    "\n",
    "x = txt.find('a',5,20)\n",
    "print(x)"
   ]
  },
  {
   "cell_type": "code",
   "execution_count": 60,
   "id": "a63bb391",
   "metadata": {},
   "outputs": [
    {
     "name": "stdout",
     "output_type": "stream",
     "text": [
      "mukeshgutkakhataHai\n",
      "mukesh gutka khata Hai\n",
      "mukesh@gutka@khata@Hai\n",
      "mukesh-gutka-khata-Hai\n"
     ]
    }
   ],
   "source": [
    "#join()\n",
    "myTuple = (\"mukesh\",\"gutka\",\"khata\",\"Hai\")\n",
    "x = \"\".join(myTuple)\n",
    "print(x)\n",
    "\n",
    "x = \" \".join(myTuple)\n",
    "print(x)\n",
    "\n",
    "x = \"@\".join(myTuple)\n",
    "print(x)\n",
    "\n",
    "x = \"-\".join(myTuple)\n",
    "print(x)"
   ]
  },
  {
   "cell_type": "code",
   "execution_count": 68,
   "id": "c8a1fe1f",
   "metadata": {},
   "outputs": [
    {
     "name": "stdout",
     "output_type": "stream",
     "text": [
      "mere ko orange pasand nhi hai\n",
      "after replacment\n",
      "mere ko mango pasand nhi hai\n",
      "jo kaam four admi char din me kr rha hai btao whi kaam four admi kitni din me karega, bsdk wo pagal hai kya jo akele karege\n",
      "three three person can do every thing, sach one me bhai mn nhi kr rha hai ab type krna ka\n"
     ]
    }
   ],
   "source": [
    "#replace()\n",
    "txt = \"mere ko orange pasand nhi hai\"\n",
    "print(txt)\n",
    "\n",
    "x =txt.replace(\"orange\",\"mango\")\n",
    "print(\"after replacment\")\n",
    "print(x)\n",
    "\n",
    "txt = \"jo kaam ek admi char din me kr rha hai btao whi kaam ek admi kitni din me karega, bsdk wo pagal hai kya jo akele karege\"\n",
    "x =txt.replace(\"ek\",\"four\")\n",
    "print(x)\n",
    "\n",
    "txt = \"one one person can do every thing, sach one me bhai mn nhi kr rha hai ab type krna ka\"\n",
    "x = txt.replace(\"one\",\"three\",2) # 2 means sirf do hi one ko replace karege\n",
    "print(x)"
   ]
  },
  {
   "cell_type": "code",
   "execution_count": 73,
   "id": "7c22b618",
   "metadata": {},
   "outputs": [
    {
     "name": "stdout",
     "output_type": "stream",
     "text": [
      "we have 49       chocalates\n",
      "we have         23 chocolates\n",
      "we have     34     chocolates\n"
     ]
    }
   ],
   "source": [
    "#format()\n",
    "txt = \"we have {:<8} chocalates\" #left align\n",
    "print(txt.format(49))\n",
    "\n",
    "txt = \"we have {:>10} chocolates\" #right align\n",
    "print(txt.format(23))\n",
    "      \n",
    "txt = \"we have {:^10} chocolates\" #center align\n",
    "print(txt.format(34))"
   ]
  },
  {
   "cell_type": "code",
   "execution_count": null,
   "id": "26cb070d",
   "metadata": {},
   "outputs": [],
   "source": []
  }
 ],
 "metadata": {
  "kernelspec": {
   "display_name": "Python 3 (ipykernel)",
   "language": "python",
   "name": "python3"
  },
  "language_info": {
   "codemirror_mode": {
    "name": "ipython",
    "version": 3
   },
   "file_extension": ".py",
   "mimetype": "text/x-python",
   "name": "python",
   "nbconvert_exporter": "python",
   "pygments_lexer": "ipython3",
   "version": "3.11.5"
  }
 },
 "nbformat": 4,
 "nbformat_minor": 5
}
