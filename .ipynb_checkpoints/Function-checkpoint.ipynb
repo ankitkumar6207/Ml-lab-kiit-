{
 "cells": [
  {
   "cell_type": "code",
   "execution_count": 1,
   "id": "176b6965",
   "metadata": {},
   "outputs": [
    {
     "name": "stdout",
     "output_type": "stream",
     "text": [
      "Hello first call to UDF\n",
      "2nd call to user defined function!!\n",
      "Again thirt time call to the same functions\n"
     ]
    }
   ],
   "source": [
    "def printme(str):\n",
    "    \"This prints a passed string function\" #doc string\n",
    "    print(str)\n",
    "    return \n",
    "printme(\"Hello first call to UDF\")\n",
    "printme(\"2nd call to user defined function!!\")\n",
    "printme(\"Again thirt time call to the same functions\")"
   ]
  },
  {
   "cell_type": "code",
   "execution_count": 2,
   "id": "42683999",
   "metadata": {},
   "outputs": [
    {
     "name": "stdout",
     "output_type": "stream",
     "text": [
      "values inside the functions: [20, 30, 40, [1, 2, 3, 4, 5]]\n",
      "values outside the functios: [20, 30, 40, [1, 2, 3, 4, 5]]\n"
     ]
    }
   ],
   "source": [
    "#all parameters (arguments) in the python are passed by reference\n",
    "myList = [20,30,40]\n",
    "def changes(any_list):\n",
    "    \"this changes a passed list\"\n",
    "    any_list.append([1,2,3,4,5])\n",
    "    print(\"values inside the functions:\",any_list)\n",
    "    return \n",
    "changes(myList)\n",
    "print(\"values outside the functios:\",myList)"
   ]
  },
  {
   "cell_type": "code",
   "execution_count": 3,
   "id": "71292998",
   "metadata": {},
   "outputs": [
    {
     "name": "stdout",
     "output_type": "stream",
     "text": [
      "My String\n"
     ]
    }
   ],
   "source": [
    "#pass value to argument during calling\n",
    "def printTme(str):\n",
    "    \"this prints a passed string\"\n",
    "    print(str)\n",
    "    return \n",
    "printTme(str = \"My String\")"
   ]
  },
  {
   "cell_type": "code",
   "execution_count": 4,
   "id": "960cc359",
   "metadata": {},
   "outputs": [
    {
     "name": "stdout",
     "output_type": "stream",
     "text": [
      "Name:  ankit\n",
      "age:  50\n",
      "Name:  mikki\n",
      "age:  35\n"
     ]
    }
   ],
   "source": [
    "def printinfo(name,age =35):\n",
    "    print(\"Name: \",name)\n",
    "    print(\"age: \",age);\n",
    "    return \n",
    "printinfo(age =50,name =\"ankit\")\n",
    "printinfo(name = \"mikki\")\n"
   ]
  },
  {
   "cell_type": "code",
   "execution_count": 5,
   "id": "d6ea675e",
   "metadata": {},
   "outputs": [
    {
     "name": "stdout",
     "output_type": "stream",
     "text": [
      "output is \n",
      "10\n",
      "output is \n",
      "12\n",
      "23\n",
      "45\n",
      "45\n",
      "Hello\n",
      "h\n"
     ]
    }
   ],
   "source": [
    "#accepting more values through (*variabl)\n",
    "#*variable : regarded as a variable hold multiple values as tuple\n",
    "\n",
    "def printinfo(*vartuple):\n",
    "    \"This is test\"\n",
    "    print(\"output is \")\n",
    "    for var in vartuple:\n",
    "        print(var)\n",
    "    return\n",
    "\n",
    "printinfo(10)\n",
    "printinfo(12,23,45,45,\"Hello\",'h')"
   ]
  },
  {
   "cell_type": "code",
   "execution_count": 6,
   "id": "43b3a058",
   "metadata": {},
   "outputs": [
    {
     "name": "stdout",
     "output_type": "stream",
     "text": [
      "output is \n",
      "(10,)\n",
      "(10, 20, 30, 40, 'hello', 'h', 'goodmorning')\n",
      "10 20 30 40 hello h goodmorning "
     ]
    }
   ],
   "source": [
    "def printinfo( *vartuple ):\n",
    "    \"this is test\"\n",
    "    return vartuple\n",
    "def name():\n",
    "    print(\"output is \")\n",
    "    mytuple = printinfo(10)\n",
    "    print(mytuple)\n",
    "    mytuple = printinfo(10,20,30,40,\"hello\",'h','goodmorning')\n",
    "    print(mytuple)\n",
    "    for var in mytuple:\n",
    "        print(var,end =\" \")\n",
    "name()"
   ]
  },
  {
   "cell_type": "code",
   "execution_count": 8,
   "id": "b4139e7e",
   "metadata": {},
   "outputs": [
    {
     "name": "stdout",
     "output_type": "stream",
     "text": [
      "sum is  150\n",
      "product is  12000000\n"
     ]
    }
   ],
   "source": [
    "def calc(*vartuple):\n",
    "    pro =1\n",
    "    sum =0\n",
    "    for var in vartuple:\n",
    "        sum = sum+var\n",
    "        pro = pro*var\n",
    "    return (sum,pro)\n",
    "    \n",
    "def main():\n",
    "    [s,p] = calc(10,20,30,40,50)\n",
    "    print(\"sum is \",s)\n",
    "    print(\"product is \",p)\n",
    "    return \n",
    "main()\n",
    "    "
   ]
  },
  {
   "cell_type": "code",
   "execution_count": 9,
   "id": "d017b587",
   "metadata": {},
   "outputs": [
    {
     "name": "stdout",
     "output_type": "stream",
     "text": [
      "sum is  25\n",
      "Difference is  15\n",
      "division is: 4.0\n",
      "product is  100\n"
     ]
    }
   ],
   "source": [
    "def calc(x,y):\n",
    "    pro =1\n",
    "    sum =0\n",
    "    subt = 0\n",
    "    div = 0\n",
    "    \n",
    "    sum=x+y\n",
    "    subt = x-y\n",
    "    pro = x*y\n",
    "    div = x/y\n",
    "    return (sum,subt,pro,div)\n",
    "def main():\n",
    "    [s,st,p,d]=calc(20,5)\n",
    "    print(\"sum is \",s)\n",
    "    print(\"Difference is \",st)\n",
    "    print(\"division is:\",d)\n",
    "    print(\"product is \",p)\n",
    "main()"
   ]
  },
  {
   "cell_type": "code",
   "execution_count": 11,
   "id": "50f68acc",
   "metadata": {},
   "outputs": [
    {
     "name": "stdout",
     "output_type": "stream",
     "text": [
      "\n",
      "Result of **kwargs\n",
      "name = viky\n",
      "info = your age\n",
      "age = 30\n"
     ]
    }
   ],
   "source": [
    "#using keywords arguments i.e keyword with value\n",
    "def myFun(**kwargs):\n",
    "    for key, value in kwargs.items():\n",
    "        print(\"%s = %s\"%(key,value))\n",
    "        \n",
    "print(\"\\nResult of **kwargs\")\n",
    "myFun(name =\"viky\",info = 'your age',age = 30)"
   ]
  },
  {
   "cell_type": "code",
   "execution_count": 12,
   "id": "2962d713",
   "metadata": {},
   "outputs": [
    {
     "name": "stdout",
     "output_type": "stream",
     "text": [
      "value of total:  50\n",
      "value of total  40\n"
     ]
    }
   ],
   "source": [
    "#anonymous function lambda : used to execute function in one line and it only excute single operation\n",
    "sum = lambda arg1,arg2:arg1+arg2;\n",
    "print(\"value of total: \",sum(20,30))\n",
    "print(\"value of total \",sum(20,20))"
   ]
  },
  {
   "cell_type": "code",
   "execution_count": null,
   "id": "0caea80d",
   "metadata": {},
   "outputs": [],
   "source": []
  }
 ],
 "metadata": {
  "kernelspec": {
   "display_name": "Python 3 (ipykernel)",
   "language": "python",
   "name": "python3"
  },
  "language_info": {
   "codemirror_mode": {
    "name": "ipython",
    "version": 3
   },
   "file_extension": ".py",
   "mimetype": "text/x-python",
   "name": "python",
   "nbconvert_exporter": "python",
   "pygments_lexer": "ipython3",
   "version": "3.11.5"
  }
 },
 "nbformat": 4,
 "nbformat_minor": 5
}
