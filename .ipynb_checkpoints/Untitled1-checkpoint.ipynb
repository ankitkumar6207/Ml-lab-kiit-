{
 "cells": [
  {
   "cell_type": "code",
   "execution_count": 2,
   "id": "345c27f6",
   "metadata": {},
   "outputs": [
    {
     "name": "stdout",
     "output_type": "stream",
     "text": [
      "    Emp_id     Name     Designation  Salary  Grade\n",
      "0     E001     Liam       Professor  251000      1\n",
      "1     E002     Noah  Asst_Professor  120000      2\n",
      "2     E003   Oliver        Director  432000      3\n",
      "3     E004   Elijah       Professor  261200      3\n",
      "4     E005  William  Asst_Professor  110500      2\n",
      "..     ...      ...             ...     ...    ...\n",
      "126   E127   Legend  Asst_Professor  148000      3\n",
      "127   E128    Jonah  Asst_Professor  144000      3\n",
      "128   E129    River  Asst_Professor  124000      1\n",
      "129   E130    Tyler        Director  432000      1\n",
      "130   E131     Cole        Director  450000      1\n",
      "\n",
      "[131 rows x 5 columns]\n"
     ]
    }
   ],
   "source": [
    "import pandas as pd\n",
    "emp_data = pd.read_csv(\"emp.csv\")\n",
    "print(emp_data)"
   ]
  },
  {
   "cell_type": "code",
   "execution_count": null,
   "id": "efa46b0a",
   "metadata": {},
   "outputs": [],
   "source": []
  }
 ],
 "metadata": {
  "kernelspec": {
   "display_name": "Python 3 (ipykernel)",
   "language": "python",
   "name": "python3"
  },
  "language_info": {
   "codemirror_mode": {
    "name": "ipython",
    "version": 3
   },
   "file_extension": ".py",
   "mimetype": "text/x-python",
   "name": "python",
   "nbconvert_exporter": "python",
   "pygments_lexer": "ipython3",
   "version": "3.11.5"
  }
 },
 "nbformat": 4,
 "nbformat_minor": 5
}
