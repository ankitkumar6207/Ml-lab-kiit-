{
 "cells": [
  {
   "cell_type": "code",
   "execution_count": 2,
   "id": "690abe3f",
   "metadata": {},
   "outputs": [
    {
     "name": "stdout",
     "output_type": "stream",
     "text": [
      "Square root is :\n",
      "[[1.         1.41421356]\n",
      " [2.         2.23606798]]\n",
      "the summation of element \n",
      "42\n",
      "column wise summation\n",
      "[5 7]\n",
      "The row wise summation\n",
      "[13 29]\n"
     ]
    }
   ],
   "source": [
    "import numpy\n",
    "x= numpy.array([[1,2],[4,5]])\n",
    "y = numpy.array([[6,7],[9,20]])\n",
    "print(\"Square root is :\")\n",
    "print(numpy.sqrt(x))\n",
    "print(\"the summation of element \")\n",
    "print(numpy.sum(y))\n",
    "print(\"column wise summation\")\n",
    "print(numpy.sum(x,axis =0))\n",
    "print(\"The row wise summation\")\n",
    "print(numpy.sum(y,axis =1))"
   ]
  },
  {
   "cell_type": "code",
   "execution_count": 4,
   "id": "b75bc3ae",
   "metadata": {},
   "outputs": [
    {
     "name": "stdout",
     "output_type": "stream",
     "text": [
      "float64\n",
      "[0.5        0.23255814 0.03333333 0.1754386  0.05      ]\n",
      "int32\n",
      "[0 0 0 0 0 0]\n"
     ]
    }
   ],
   "source": [
    "import numpy as np\n",
    "ar = np.array([2.0,4.3,30,5.7,20]) #Float type\n",
    "print(ar.dtype)\n",
    "print(np.reciprocal(ar))\n",
    "\n",
    "ar = np.array([2,3,4,5,6,7]) #int type\n",
    "print(ar.dtype)\n",
    "print(np.reciprocal(ar))"
   ]
  },
  {
   "cell_type": "code",
   "execution_count": 9,
   "id": "87bccf6e",
   "metadata": {},
   "outputs": [
    {
     "name": "stdout",
     "output_type": "stream",
     "text": [
      "[1 0 0]\n"
     ]
    }
   ],
   "source": [
    "#numpy.mod()\n",
    "import numpy as np\n",
    "ar = numpy.array([5,8,3])\n",
    "ar1 = numpy.array([2,2,3])\n",
    "print(np.mod(ar,ar1))"
   ]
  },
  {
   "cell_type": "code",
   "execution_count": 13,
   "id": "536aa912",
   "metadata": {},
   "outputs": [
    {
     "data": {
      "text/plain": [
       "array([9.22066186, 6.15019245, 4.10648237, 7.44369914, 4.38694799,\n",
       "       9.93764205, 7.7846777 , 7.9925324 , 5.67992244, 1.46349115,\n",
       "       2.1902088 , 8.57020108, 2.08376037, 2.67570362, 8.2299936 ,\n",
       "       7.03869235, 2.38683382, 3.70254211, 8.25262187, 6.7695049 ,\n",
       "       9.6412771 , 8.68702421, 8.75687756, 9.49549143, 5.2725052 ,\n",
       "       3.32670879, 8.52686124, 5.45935907, 4.92081164, 5.64626816,\n",
       "       5.00257427, 9.9403601 , 5.46566977, 2.77309928, 8.13757143,\n",
       "       2.3787444 , 7.47270412, 3.30204983, 5.90423032, 4.46022933,\n",
       "       2.2066926 , 9.60421219, 2.92648631, 2.3010577 , 9.50814898,\n",
       "       7.8521328 , 5.33866113, 8.01310566, 3.66475146, 6.76296767,\n",
       "       2.85180806, 5.95998645, 9.25034241, 3.50173768, 8.86016597,\n",
       "       3.50214011, 3.98664272, 7.98363151, 3.41356505, 5.47941053,\n",
       "       7.88970788, 1.21318654, 2.69450048, 4.28309629, 6.17713443,\n",
       "       2.03073188, 6.25042845, 6.78210555, 8.43273386, 6.12201382,\n",
       "       5.89045254, 7.78654744, 8.52742453, 4.97262109, 6.20896007,\n",
       "       8.94394928, 2.93337339, 8.04871993, 7.22901598, 7.67987957,\n",
       "       2.53673389, 1.63909906, 8.26715337, 3.14653575, 5.3118412 ,\n",
       "       1.14219289, 7.32708631, 2.83188603, 6.04839005, 2.22273282,\n",
       "       3.06680335, 4.50633848, 2.26102697, 4.21852151, 5.37562796,\n",
       "       1.07805191, 9.87362872, 5.94789266, 5.06307691, 7.84438309])"
      ]
     },
     "execution_count": 13,
     "metadata": {},
     "output_type": "execute_result"
    }
   ],
   "source": [
    "import numpy as np\n",
    "np.random.uniform(1,10,size=100)"
   ]
  },
  {
   "cell_type": "code",
   "execution_count": 16,
   "id": "65f985e8",
   "metadata": {},
   "outputs": [
    {
     "data": {
      "text/plain": [
       "array([[0.20910695, 0.56611489, 0.6099253 ],\n",
       "       [0.62067897, 0.69598495, 0.1126087 ],\n",
       "       [0.62736518, 0.25536739, 0.31866166],\n",
       "       [0.09462245, 0.44636149, 0.04619262]])"
      ]
     },
     "execution_count": 16,
     "metadata": {},
     "output_type": "execute_result"
    }
   ],
   "source": [
    "import numpy as np\n",
    "np.random.uniform(size=50) #default range is 0 to 1\n",
    "np.random.uniform(size=(4,3)) # generate 2d array\n"
   ]
  },
  {
   "cell_type": "code",
   "execution_count": 21,
   "id": "e2893ad9",
   "metadata": {},
   "outputs": [
    {
     "data": {
      "text/plain": [
       "array([[19,  8,  7],\n",
       "       [ 8, 17, 10],\n",
       "       [ 2,  8, 13],\n",
       "       [19,  6,  6]])"
      ]
     },
     "execution_count": 21,
     "metadata": {},
     "output_type": "execute_result"
    }
   ],
   "source": [
    "# Numpy.random\n",
    "import numpy as np\n",
    "np.random.randint(1,20,size=10)\n",
    "np.random.randint(1,20,size=(4,3))\n",
    "\n"
   ]
  },
  {
   "cell_type": "code",
   "execution_count": 24,
   "id": "d11018e7",
   "metadata": {},
   "outputs": [
    {
     "name": "stdout",
     "output_type": "stream",
     "text": [
      "[[23 23 23]\n",
      " [23 23 23]]\n"
     ]
    }
   ],
   "source": [
    "# creating array of a random value Full()\n",
    "import numpy as np\n",
    "a=np.full([2,3],23,dtype=int)\n",
    "print(a)"
   ]
  },
  {
   "cell_type": "code",
   "execution_count": 26,
   "id": "70fada7f",
   "metadata": {},
   "outputs": [
    {
     "name": "stdout",
     "output_type": "stream",
     "text": [
      "[ 6  1 19 18 16  2 12 17 10  2  9  1  1 18 14 10  3 12 12  1  2 18 14 13\n",
      "  9  4 17  6 15 15]\n"
     ]
    },
    {
     "data": {
      "text/plain": [
       "array([ 1,  2,  3,  4,  6,  9, 10, 12, 13, 14, 15, 16, 17, 18, 19])"
      ]
     },
     "execution_count": 26,
     "metadata": {},
     "output_type": "execute_result"
    }
   ],
   "source": [
    "# Numpu.unique()\n",
    "import numpy as np\n",
    "ar = np.random.randint(1,20,size=30)\n",
    "print(ar)\n",
    "np.unique(ar)"
   ]
  },
  {
   "cell_type": "code",
   "execution_count": 27,
   "id": "8616834e",
   "metadata": {},
   "outputs": [
    {
     "name": "stdout",
     "output_type": "stream",
     "text": [
      "[[ 0  1  2  3  4]\n",
      " [ 5  6  7  8  9]\n",
      " [10 11 12 13 14]]\n",
      "array elements larger than 5:\n",
      " [ 6  7  8  9 10 11 12 13 14]\n"
     ]
    }
   ],
   "source": [
    "# numpy.where()\n",
    "import numpy as np\n",
    "a=np.arange(15).reshape(3,5)\n",
    "print(a)\n",
    "a=a[np.where(a>5)]\n",
    "print(\"array elements larger than 5:\\n\",a)"
   ]
  },
  {
   "cell_type": "code",
   "execution_count": 28,
   "id": "0ba70894",
   "metadata": {},
   "outputs": [
    {
     "name": "stdout",
     "output_type": "stream",
     "text": [
      "[[ 0  1  2  3  4]\n",
      " [ 5  6  7  8  9]\n",
      " [10 11 12 13 14]]\n",
      "array elements larger than 5:\n",
      " [[False False False False False]\n",
      " [False  True  True  True  True]\n",
      " [ True  True  True  True  True]]\n"
     ]
    }
   ],
   "source": [
    "# numpy.where()\n",
    "import numpy as np\n",
    "a=np.arange(15).reshape(3,5)\n",
    "print(a)\n",
    "a=(a>5)\n",
    "print(\"array elements larger than 5:\\n\",a)"
   ]
  },
  {
   "cell_type": "code",
   "execution_count": 33,
   "id": "4cbe7405",
   "metadata": {},
   "outputs": [
    {
     "name": "stdout",
     "output_type": "stream",
     "text": [
      "[[[[ 0  1]\n",
      "   [ 2  3]]\n",
      "\n",
      "  [[ 4  5]\n",
      "   [ 6  7]]\n",
      "\n",
      "  [[ 8  9]\n",
      "   [10 11]]]\n",
      "\n",
      "\n",
      " [[[12 13]\n",
      "   [14 15]]\n",
      "\n",
      "  [[16 17]\n",
      "   [18 19]]\n",
      "\n",
      "  [[20 21]\n",
      "   [22 23]]]]\n",
      "\n",
      "\n",
      "size of array 24\n",
      "shape of array  (2, 3, 2, 2)\n",
      "the above array is 4 dimensional\n"
     ]
    }
   ],
   "source": [
    "import numpy as np\n",
    "a = np.arange(24).reshape(2,3,2,2)\n",
    "print(a)\n",
    "print(\"\\n\")\n",
    "print(\"size of array\",a.size)\n",
    "print(\"shape of array \",a.shape)\n",
    "print(\"the above array is {0} dimensional\".format(a.ndim))"
   ]
  },
  {
   "cell_type": "code",
   "execution_count": null,
   "id": "b0984898",
   "metadata": {},
   "outputs": [],
   "source": []
  }
 ],
 "metadata": {
  "kernelspec": {
   "display_name": "Python 3 (ipykernel)",
   "language": "python",
   "name": "python3"
  },
  "language_info": {
   "codemirror_mode": {
    "name": "ipython",
    "version": 3
   },
   "file_extension": ".py",
   "mimetype": "text/x-python",
   "name": "python",
   "nbconvert_exporter": "python",
   "pygments_lexer": "ipython3",
   "version": "3.11.5"
  }
 },
 "nbformat": 4,
 "nbformat_minor": 5
}
