{
 "cells": [
  {
   "cell_type": "code",
   "execution_count": 1,
   "id": "bfac3e12",
   "metadata": {},
   "outputs": [
    {
     "name": "stdout",
     "output_type": "stream",
     "text": [
      "welcome to python\n",
      " Regularly working in python\n"
     ]
    }
   ],
   "source": [
    "f= open(\"a.txt\",'w')\n",
    "line1='welcome to python'\n",
    "f.write(line1)\n",
    "line2=\"\\n Regularly working in python\"\n",
    "f.write(line2)\n",
    "f.close()\n",
    "\n",
    "f = open(\"a.txt\",'r')\n",
    "text=f.read()\n",
    "print(text)\n",
    "f.close()\n",
    "\n"
   ]
  },
  {
   "cell_type": "code",
   "execution_count": 4,
   "id": "92f689e0",
   "metadata": {},
   "outputs": [
    {
     "name": "stdout",
     "output_type": "stream",
     "text": [
      "This is bhubneswar\n",
      "this is paris\n",
      "this is london\n"
     ]
    }
   ],
   "source": [
    "file1 = open(\"line.txt\",'w')\n",
    "L=(\"This is bhubneswar\\n\",\"this is paris\\n\",\"this is london\")\n",
    "file1.writelines(L)\n",
    "file1.close();\n",
    "\n",
    "f = open(\"line.txt\",'r')\n",
    "text=f.read()\n",
    "print(text)\n",
    "f.close()"
   ]
  },
  {
   "cell_type": "code",
   "execution_count": null,
   "id": "0effb4ac",
   "metadata": {},
   "outputs": [],
   "source": []
  }
 ],
 "metadata": {
  "kernelspec": {
   "display_name": "Python 3 (ipykernel)",
   "language": "python",
   "name": "python3"
  },
  "language_info": {
   "codemirror_mode": {
    "name": "ipython",
    "version": 3
   },
   "file_extension": ".py",
   "mimetype": "text/x-python",
   "name": "python",
   "nbconvert_exporter": "python",
   "pygments_lexer": "ipython3",
   "version": "3.11.5"
  }
 },
 "nbformat": 4,
 "nbformat_minor": 5
}
